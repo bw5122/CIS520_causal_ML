{
 "cells": [
  {
   "cell_type": "code",
   "execution_count": 15,
   "metadata": {},
   "outputs": [],
   "source": [
    "import pandas\n",
    "from econml.metalearners import XLearner\n",
    "from sklearn.ensemble import GradientBoostingClassifier, GradientBoostingRegressor\n",
    "import numpy as np\n",
    "from tqdm import tqdm"
   ]
  },
  {
   "cell_type": "code",
   "execution_count": 17,
   "metadata": {},
   "outputs": [
    {
     "name": "stdout",
     "output_type": "stream",
     "text": [
      "         Unnamed: 0  click_bool  booking_bool  random_bool  \\\n",
      "0                 0           0             0            1   \n",
      "1                 1           0             0            1   \n",
      "2                 2           0             0            1   \n",
      "3                 3           0             0            1   \n",
      "4                 4           0             0            1   \n",
      "...             ...         ...           ...          ...   \n",
      "9917525     9917525           0             0            0   \n",
      "9917526     9917526           1             1            0   \n",
      "9917527     9917527           0             0            0   \n",
      "9917528     9917528           0             0            0   \n",
      "9917529     9917529           0             0            0   \n",
      "\n",
      "         visitor_hist_starrating  visitor_hist_adr_usd  prop_starrating  \\\n",
      "0                       3.374634            176.588512                3   \n",
      "1                       3.374634            176.588512                4   \n",
      "2                       3.374634            176.588512                3   \n",
      "3                       3.374634            176.588512                2   \n",
      "4                       3.374634            176.588512                4   \n",
      "...                          ...                   ...              ...   \n",
      "9917525                 3.374634            176.588512                4   \n",
      "9917526                 3.374634            176.588512                4   \n",
      "9917527                 3.374634            176.588512                4   \n",
      "9917528                 3.374634            176.588512                4   \n",
      "9917529                 3.374634            176.588512                4   \n",
      "\n",
      "         prop_review_score  prop_brand_bool  prop_location_score1  ...  \\\n",
      "0                      3.5                1                  2.83  ...   \n",
      "1                      4.0                1                  2.20  ...   \n",
      "2                      4.5                1                  2.20  ...   \n",
      "3                      4.0                1                  2.83  ...   \n",
      "4                      3.5                1                  2.64  ...   \n",
      "...                    ...              ...                   ...  ...   \n",
      "9917525                3.5                0                  2.48  ...   \n",
      "9917526                3.0                1                  2.20  ...   \n",
      "9917527                0.0                0                  1.79  ...   \n",
      "9917528                0.0                0                  2.94  ...   \n",
      "9917529                4.5                1                  2.08  ...   \n",
      "\n",
      "         position  price_usd  promotion_flag  srch_length_of_stay  \\\n",
      "0              27     104.77               0                    1   \n",
      "1              26     170.74               0                    1   \n",
      "2              21     179.80               0                    1   \n",
      "3              34     602.77               0                    1   \n",
      "4               4     143.58               0                    1   \n",
      "...           ...        ...             ...                  ...   \n",
      "9917525         2      66.07               0                    2   \n",
      "9917526         6      67.10               0                    2   \n",
      "9917527         8      73.91               0                    2   \n",
      "9917528         7      66.07               0                    2   \n",
      "9917529         4      82.06               0                    2   \n",
      "\n",
      "         srch_booking_window  srch_adults_count  srch_children_count  \\\n",
      "0                          0                  4                    0   \n",
      "1                          0                  4                    0   \n",
      "2                          0                  4                    0   \n",
      "3                          0                  4                    0   \n",
      "4                          0                  4                    0   \n",
      "...                      ...                ...                  ...   \n",
      "9917525                    7                  1                    0   \n",
      "9917526                    7                  1                    0   \n",
      "9917527                    7                  1                    0   \n",
      "9917528                    7                  1                    0   \n",
      "9917529                    7                  1                    0   \n",
      "\n",
      "         srch_room_count  srch_saturday_night_bool  orig_destination_distance  \n",
      "0                      1                         1                1307.017977  \n",
      "1                      1                         1                1307.017977  \n",
      "2                      1                         1                1307.017977  \n",
      "3                      1                         1                1307.017977  \n",
      "4                      1                         1                1307.017977  \n",
      "...                  ...                       ...                        ...  \n",
      "9917525                1                         0                1307.017977  \n",
      "9917526                1                         0                1307.017977  \n",
      "9917527                1                         0                1307.017977  \n",
      "9917528                1                         0                1307.017977  \n",
      "9917529                1                         0                1307.017977  \n",
      "\n",
      "[9917530 rows x 21 columns]\n"
     ]
    }
   ],
   "source": [
    "df = pandas.read_csv('data/train_new.csv')\n",
    "print(df)\n",
    "\n",
    "Y = df.loc[:, ['booking_bool', 'click_bool']]  # using booking_bool or click_bool\n",
    "X = df.loc[:, ['visitor_hist_starrating', 'visitor_hist_adr_usd',\n",
    "              'prop_starrating', 'prop_review_score', 'prop_brand_bool', \n",
    "              'prop_location_score1', 'prop_log_historical_price', 'position', 'price_usd',\n",
    "              'promotion_flag', 'srch_length_of_stay', 'srch_booking_window', 'srch_adults_count',\n",
    "              'srch_children_count', 'srch_room_count', 'srch_saturday_night_bool', 'orig_destination_distance']]\n",
    "T = 1 - df.loc[:, 'random_bool']    # treatment (sorted as 1, random as 0)"
   ]
  },
  {
   "cell_type": "code",
   "execution_count": 18,
   "metadata": {},
   "outputs": [],
   "source": [
    "from sklearn.model_selection import train_test_split\n",
    "X_np = X.to_numpy(na_value=0)\n",
    "Y_np = Y.to_numpy()\n",
    "T_np = T.to_numpy()\n",
    "data = np.concatenate((X_np, Y_np, T_np[..., None]), axis=-1)\n",
    "n_data = data.shape[0]\n",
    "train_data, test_data = train_test_split(data[:int(n_data * 0.01)], train_size=0.7)\n",
    "X_train = train_data[:, :-3]\n",
    "Y_train = train_data[:, -3:-1]  # N x 2\n",
    "T_train = train_data[:, -1]\n",
    "\n",
    "X_test = test_data[:, :-3]\n",
    "Y_test = test_data[:, -3:-1]\n",
    "T_test = test_data[:, -1]"
   ]
  },
  {
   "cell_type": "code",
   "execution_count": 33,
   "metadata": {},
   "outputs": [
    {
     "name": "stderr",
     "output_type": "stream",
     "text": [
      "100%|██████████| 2/2 [01:06<00:00, 33.24s/it]\n"
     ]
    }
   ],
   "source": [
    "# XLearner\n",
    "xlearners = []\n",
    "for i in tqdm(range(Y_train.shape[1])):\n",
    "    xlearner = XLearner(models=GradientBoostingRegressor(),\n",
    "                propensity_model=GradientBoostingClassifier(),\n",
    "                cate_models=GradientBoostingRegressor())\n",
    "    xlearner.fit(Y_train[:, i], T_train, X=X_train)\n",
    "    xlearners.append(xlearner)"
   ]
  },
  {
   "cell_type": "code",
   "execution_count": 34,
   "metadata": {},
   "outputs": [
    {
     "name": "stderr",
     "output_type": "stream",
     "text": [
      "100%|██████████| 2/2 [00:00<00:00,  3.75it/s]\n"
     ]
    }
   ],
   "source": [
    "HTEs_xlearner = []\n",
    "ATEs_xlearner = []\n",
    "for i in tqdm(range(Y_train.shape[1])):\n",
    "    HTE_xlearner = xlearners[i].effect(X_test)\n",
    "    ATE_xlearner = xlearners[i].ate(X_test)\n",
    "    HTEs_xlearner.append(HTE_xlearner)\n",
    "    ATEs_xlearner.append(ATE_xlearner)"
   ]
  },
  {
   "cell_type": "code",
   "execution_count": 35,
   "metadata": {},
   "outputs": [
    {
     "data": {
      "text/plain": [
       "([array([0.01859478, 0.01362686, 0.00848823, ..., 0.00598069, 0.01079034,\n",
       "         0.01703112]),\n",
       "  array([-0.00800371, -0.01388718, -0.00694866, ..., -0.01778324,\n",
       "         -0.01865235, -0.01219883])],\n",
       " [0.0312565069827455, -0.003927284023636])"
      ]
     },
     "execution_count": 35,
     "metadata": {},
     "output_type": "execute_result"
    }
   ],
   "source": [
    "HTEs_xlearner, ATEs_xlearner"
   ]
  },
  {
   "cell_type": "code",
   "execution_count": 11,
   "metadata": {},
   "outputs": [
    {
     "data": {
      "text/plain": [
       "(array([-0.0048295 , -0.01718111, -0.02596979, ..., -0.04902052,\n",
       "        -0.02031294, -0.02661698]),\n",
       " array([-0.0126477 , -0.02419306, -0.03425615, ..., -0.05796047,\n",
       "        -0.02388705, -0.0405591 ]),\n",
       " array([ 0.00516105, -0.00903868, -0.01623263, ..., -0.03808922,\n",
       "        -0.01357785, -0.02108641]))"
      ]
     },
     "execution_count": 11,
     "metadata": {},
     "output_type": "execute_result"
    }
   ],
   "source": [
    "'''\n",
    "# Fit with bootstrap confidence interval construction enabled\n",
    "xlearner.fit(Y_train, T_train, X=X_train, inference='bootstrap')\n",
    "TE_xlearner = xlearner.effect(X_test)\n",
    "lb, ub = xlearner.effect_interval(X_test, alpha=0.05) # Bootstrap CIs\n",
    "TE_xlearner, lb, ub\n",
    "'''"
   ]
  },
  {
   "cell_type": "code",
   "execution_count": 28,
   "metadata": {},
   "outputs": [
    {
     "data": {
      "text/plain": [
       "<econml.metalearners._metalearners.TLearner at 0x7fba35b8b070>"
      ]
     },
     "execution_count": 28,
     "metadata": {},
     "output_type": "execute_result"
    }
   ],
   "source": [
    "# TLearner\n",
    "from econml.metalearners import TLearner\n",
    "from sklearn.linear_model import LinearRegression\n",
    "\n",
    "tlearner = TLearner(models=LinearRegression())\n",
    "tlearner.fit(Y_train, T_train, X=X_train)"
   ]
  },
  {
   "cell_type": "code",
   "execution_count": 36,
   "metadata": {},
   "outputs": [
    {
     "data": {
      "text/plain": [
       "(array([[ 0.02757165, -0.00420639],\n",
       "        [ 0.03467252, -0.00063656],\n",
       "        [ 0.02378496, -0.00280876],\n",
       "        ...,\n",
       "        [ 0.00323927, -0.0126021 ],\n",
       "        [ 0.0298636 , -0.01397227],\n",
       "        [ 0.05299882,  0.00560695]]),\n",
       " array([ 0.03269705, -0.00303887]))"
      ]
     },
     "execution_count": 36,
     "metadata": {},
     "output_type": "execute_result"
    }
   ],
   "source": [
    "HTE_tlearner = tlearner.effect(X_test)\n",
    "ATE_tlearner = tlearner.ate(X_test)\n",
    "HTE_tlearner, ATE_tlearner "
   ]
  },
  {
   "cell_type": "code",
   "execution_count": 37,
   "metadata": {},
   "outputs": [
    {
     "data": {
      "text/plain": [
       "<econml.metalearners._metalearners.SLearner at 0x7fba35bdcbe0>"
      ]
     },
     "execution_count": 37,
     "metadata": {},
     "output_type": "execute_result"
    }
   ],
   "source": [
    "# SLearner\n",
    "from econml.metalearners import SLearner\n",
    "from sklearn.ensemble import RandomForestRegressor\n",
    "\n",
    "slearner = SLearner(overall_model=RandomForestRegressor())\n",
    "slearner.fit(Y_train, T_train, X=X_train, inference='bootstrap')"
   ]
  },
  {
   "cell_type": "code",
   "execution_count": 38,
   "metadata": {},
   "outputs": [
    {
     "data": {
      "text/plain": [
       "(array([[-0.01, -0.04],\n",
       "        [ 0.05,  0.1 ],\n",
       "        [-0.02,  0.03],\n",
       "        ...,\n",
       "        [ 0.01,  0.01],\n",
       "        [ 0.03,  0.  ],\n",
       "        [ 0.07,  0.06]]),\n",
       " array([ 0.03955635, -0.0064128 ]))"
      ]
     },
     "execution_count": 38,
     "metadata": {},
     "output_type": "execute_result"
    }
   ],
   "source": [
    "HTE_slearner = slearner.effect(X_test)\n",
    "ATE_slearner = slearner.ate(X_test)\n",
    "HTE_slearner, ATE_slearner "
   ]
  },
  {
   "cell_type": "code",
   "execution_count": 39,
   "metadata": {},
   "outputs": [
    {
     "name": "stderr",
     "output_type": "stream",
     "text": [
      "100%|██████████| 2/2 [01:10<00:00, 35.46s/it]\n"
     ]
    }
   ],
   "source": [
    "# DRLearner\n",
    "from econml.dr import DRLearner\n",
    "from sklearn.linear_model import LassoCV\n",
    "from sklearn.ensemble import RandomForestClassifier, RandomForestRegressor\n",
    "\n",
    "drlearners = []\n",
    "for i in tqdm(range(Y_train.shape[1])):\n",
    "    drlearner = DRLearner(model_propensity=RandomForestClassifier(n_estimators=100, min_samples_leaf=10), \n",
    "                        model_regression=RandomForestRegressor(n_estimators=100, min_samples_leaf=10),\n",
    "                        model_final=LassoCV(cv=3),\n",
    "                        random_state=0)\n",
    "    drlearner.fit(Y_train[:, i], T_train, X=X_train, W=None)\n",
    "    drlearners.append(drlearner)"
   ]
  },
  {
   "cell_type": "code",
   "execution_count": 40,
   "metadata": {},
   "outputs": [
    {
     "name": "stderr",
     "output_type": "stream",
     "text": [
      "100%|██████████| 2/2 [00:00<00:00, 20.81it/s]\n"
     ]
    },
    {
     "data": {
      "text/plain": [
       "([array([0.02547601, 0.02809258, 0.02184279, ..., 0.00618645, 0.01959   ,\n",
       "         0.05491278]),\n",
       "  array([-0.00577698, -0.00407257, -0.00819839, ..., -0.01036014,\n",
       "         -0.00813854, -0.0018023 ])],\n",
       " [0.03191912772342984, -0.0050003292726500575])"
      ]
     },
     "execution_count": 40,
     "metadata": {},
     "output_type": "execute_result"
    }
   ],
   "source": [
    "HTEs_drlearner = []\n",
    "ATEs_drlearner = []\n",
    "for i in tqdm(range(Y_train.shape[1])):\n",
    "    HTE_drlearner = drlearners[i].effect(X_test)\n",
    "    ATE_drlearner = drlearners[i].ate(X_test)\n",
    "    HTEs_drlearner.append(HTE_drlearner)\n",
    "    ATEs_drlearner.append(ATE_drlearner)\n",
    "\n",
    "HTEs_drlearner, ATEs_drlearner"
   ]
  },
  {
   "cell_type": "code",
   "execution_count": 41,
   "metadata": {},
   "outputs": [
    {
     "data": {
      "text/plain": [
       "<econml.dml.dml.DML at 0x7fbaf8d0f790>"
      ]
     },
     "execution_count": 41,
     "metadata": {},
     "output_type": "execute_result"
    }
   ],
   "source": [
    "# DML\n",
    "from econml.dml import DML\n",
    "from econml.sklearn_extensions.linear_model import StatsModelsLinearRegression\n",
    "from sklearn.ensemble import RandomForestRegressor, RandomForestClassifier\n",
    "\n",
    "dml = DML(model_y=RandomForestRegressor(),\n",
    "          model_t=RandomForestClassifier(),\n",
    "          model_final=StatsModelsLinearRegression(fit_intercept=False), \n",
    "          linear_first_stages=False, \n",
    "          discrete_treatment=True,\n",
    "          random_state=0)\n",
    "\n",
    "dml.fit(Y_train, T_train, X=X_train)"
   ]
  },
  {
   "cell_type": "code",
   "execution_count": 42,
   "metadata": {},
   "outputs": [
    {
     "data": {
      "text/plain": [
       "(array([[ 0.03744712, -0.00340578],\n",
       "        [ 0.04784964, -0.01148044],\n",
       "        [ 0.02912355, -0.00689383],\n",
       "        ...,\n",
       "        [ 0.01195178, -0.02211793],\n",
       "        [ 0.03855042, -0.02313146],\n",
       "        [ 0.0655047 ,  0.00644256]]),\n",
       " array([ 0.04548884, -0.00901736]))"
      ]
     },
     "execution_count": 42,
     "metadata": {},
     "output_type": "execute_result"
    }
   ],
   "source": [
    "HTE_dml = dml.effect(X_test)\n",
    "ATE_dml = dml.ate(X_test)\n",
    "\n",
    "HTE_dml, ATE_dml"
   ]
  },
  {
   "cell_type": "code",
   "execution_count": null,
   "metadata": {},
   "outputs": [],
   "source": []
  }
 ],
 "metadata": {
  "kernelspec": {
   "display_name": "Python 3.10.8 ('causal_infer')",
   "language": "python",
   "name": "python3"
  },
  "language_info": {
   "codemirror_mode": {
    "name": "ipython",
    "version": 3
   },
   "file_extension": ".py",
   "mimetype": "text/x-python",
   "name": "python",
   "nbconvert_exporter": "python",
   "pygments_lexer": "ipython3",
   "version": "3.10.8"
  },
  "orig_nbformat": 4,
  "vscode": {
   "interpreter": {
    "hash": "e549d4fbf44d45942ec0c83f98ae284653483a93f1f7c4d8285e55d1268d56d8"
   }
  }
 },
 "nbformat": 4,
 "nbformat_minor": 2
}
