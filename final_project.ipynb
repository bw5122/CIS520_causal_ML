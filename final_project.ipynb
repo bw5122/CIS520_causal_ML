{
 "cells": [
  {
   "cell_type": "code",
   "execution_count": 12,
   "metadata": {},
   "outputs": [],
   "source": [
    "import pandas as pd\n",
    "import matplotlib.pyplot as plt\n",
    "import pandas as pd\n",
    "import pandas as pd\n",
    "import os\n",
    "import pandas as pd\n",
    "import matplotlib.pyplot as plt\n",
    "import seaborn as sns\n",
    "import numpy as np\n",
    "import statistics \n",
    "import statsmodels.formula.api as smf\n",
    "import math\n",
    "import statsmodels.api as sm\n"
   ]
  },
  {
   "cell_type": "code",
   "execution_count": 3,
   "metadata": {},
   "outputs": [],
   "source": [
    "# load training data \n",
    "df = pd.read_csv(r'/Users/Anna/Dropbox (Penn)/Fall 2022/CIS 5200/Final Project/data/train.csv')"
   ]
  },
  {
   "cell_type": "code",
   "execution_count": 17,
   "metadata": {},
   "outputs": [
    {
     "data": {
      "text/html": [
       "<div>\n",
       "<style scoped>\n",
       "    .dataframe tbody tr th:only-of-type {\n",
       "        vertical-align: middle;\n",
       "    }\n",
       "\n",
       "    .dataframe tbody tr th {\n",
       "        vertical-align: top;\n",
       "    }\n",
       "\n",
       "    .dataframe thead th {\n",
       "        text-align: right;\n",
       "    }\n",
       "</style>\n",
       "<table border=\"1\" class=\"dataframe\">\n",
       "  <thead>\n",
       "    <tr style=\"text-align: right;\">\n",
       "      <th></th>\n",
       "      <th>srch_id</th>\n",
       "      <th>date_time</th>\n",
       "      <th>site_id</th>\n",
       "      <th>visitor_location_country_id</th>\n",
       "      <th>visitor_hist_starrating</th>\n",
       "      <th>visitor_hist_adr_usd</th>\n",
       "      <th>prop_country_id</th>\n",
       "      <th>prop_id</th>\n",
       "      <th>prop_starrating</th>\n",
       "      <th>prop_review_score</th>\n",
       "      <th>...</th>\n",
       "      <th>comp6_rate_percent_diff</th>\n",
       "      <th>comp7_rate</th>\n",
       "      <th>comp7_inv</th>\n",
       "      <th>comp7_rate_percent_diff</th>\n",
       "      <th>comp8_rate</th>\n",
       "      <th>comp8_inv</th>\n",
       "      <th>comp8_rate_percent_diff</th>\n",
       "      <th>click_bool</th>\n",
       "      <th>gross_bookings_usd</th>\n",
       "      <th>booking_bool</th>\n",
       "    </tr>\n",
       "  </thead>\n",
       "  <tbody>\n",
       "    <tr>\n",
       "      <th>0</th>\n",
       "      <td>1</td>\n",
       "      <td>2013-04-04 08:32:15</td>\n",
       "      <td>12</td>\n",
       "      <td>187</td>\n",
       "      <td>NaN</td>\n",
       "      <td>NaN</td>\n",
       "      <td>219</td>\n",
       "      <td>893</td>\n",
       "      <td>3</td>\n",
       "      <td>3.5</td>\n",
       "      <td>...</td>\n",
       "      <td>NaN</td>\n",
       "      <td>NaN</td>\n",
       "      <td>NaN</td>\n",
       "      <td>NaN</td>\n",
       "      <td>0.0</td>\n",
       "      <td>0.0</td>\n",
       "      <td>NaN</td>\n",
       "      <td>0</td>\n",
       "      <td>NaN</td>\n",
       "      <td>0</td>\n",
       "    </tr>\n",
       "    <tr>\n",
       "      <th>1</th>\n",
       "      <td>1</td>\n",
       "      <td>2013-04-04 08:32:15</td>\n",
       "      <td>12</td>\n",
       "      <td>187</td>\n",
       "      <td>NaN</td>\n",
       "      <td>NaN</td>\n",
       "      <td>219</td>\n",
       "      <td>10404</td>\n",
       "      <td>4</td>\n",
       "      <td>4.0</td>\n",
       "      <td>...</td>\n",
       "      <td>NaN</td>\n",
       "      <td>NaN</td>\n",
       "      <td>NaN</td>\n",
       "      <td>NaN</td>\n",
       "      <td>0.0</td>\n",
       "      <td>0.0</td>\n",
       "      <td>NaN</td>\n",
       "      <td>0</td>\n",
       "      <td>NaN</td>\n",
       "      <td>0</td>\n",
       "    </tr>\n",
       "    <tr>\n",
       "      <th>2</th>\n",
       "      <td>1</td>\n",
       "      <td>2013-04-04 08:32:15</td>\n",
       "      <td>12</td>\n",
       "      <td>187</td>\n",
       "      <td>NaN</td>\n",
       "      <td>NaN</td>\n",
       "      <td>219</td>\n",
       "      <td>21315</td>\n",
       "      <td>3</td>\n",
       "      <td>4.5</td>\n",
       "      <td>...</td>\n",
       "      <td>NaN</td>\n",
       "      <td>NaN</td>\n",
       "      <td>NaN</td>\n",
       "      <td>NaN</td>\n",
       "      <td>0.0</td>\n",
       "      <td>0.0</td>\n",
       "      <td>NaN</td>\n",
       "      <td>0</td>\n",
       "      <td>NaN</td>\n",
       "      <td>0</td>\n",
       "    </tr>\n",
       "    <tr>\n",
       "      <th>3</th>\n",
       "      <td>1</td>\n",
       "      <td>2013-04-04 08:32:15</td>\n",
       "      <td>12</td>\n",
       "      <td>187</td>\n",
       "      <td>NaN</td>\n",
       "      <td>NaN</td>\n",
       "      <td>219</td>\n",
       "      <td>27348</td>\n",
       "      <td>2</td>\n",
       "      <td>4.0</td>\n",
       "      <td>...</td>\n",
       "      <td>NaN</td>\n",
       "      <td>NaN</td>\n",
       "      <td>NaN</td>\n",
       "      <td>NaN</td>\n",
       "      <td>-1.0</td>\n",
       "      <td>0.0</td>\n",
       "      <td>5.0</td>\n",
       "      <td>0</td>\n",
       "      <td>NaN</td>\n",
       "      <td>0</td>\n",
       "    </tr>\n",
       "    <tr>\n",
       "      <th>4</th>\n",
       "      <td>1</td>\n",
       "      <td>2013-04-04 08:32:15</td>\n",
       "      <td>12</td>\n",
       "      <td>187</td>\n",
       "      <td>NaN</td>\n",
       "      <td>NaN</td>\n",
       "      <td>219</td>\n",
       "      <td>29604</td>\n",
       "      <td>4</td>\n",
       "      <td>3.5</td>\n",
       "      <td>...</td>\n",
       "      <td>NaN</td>\n",
       "      <td>NaN</td>\n",
       "      <td>NaN</td>\n",
       "      <td>NaN</td>\n",
       "      <td>0.0</td>\n",
       "      <td>0.0</td>\n",
       "      <td>NaN</td>\n",
       "      <td>0</td>\n",
       "      <td>NaN</td>\n",
       "      <td>0</td>\n",
       "    </tr>\n",
       "  </tbody>\n",
       "</table>\n",
       "<p>5 rows × 54 columns</p>\n",
       "</div>"
      ],
      "text/plain": [
       "   srch_id            date_time  site_id  visitor_location_country_id  \\\n",
       "0        1  2013-04-04 08:32:15       12                          187   \n",
       "1        1  2013-04-04 08:32:15       12                          187   \n",
       "2        1  2013-04-04 08:32:15       12                          187   \n",
       "3        1  2013-04-04 08:32:15       12                          187   \n",
       "4        1  2013-04-04 08:32:15       12                          187   \n",
       "\n",
       "   visitor_hist_starrating  visitor_hist_adr_usd  prop_country_id  prop_id  \\\n",
       "0                      NaN                   NaN              219      893   \n",
       "1                      NaN                   NaN              219    10404   \n",
       "2                      NaN                   NaN              219    21315   \n",
       "3                      NaN                   NaN              219    27348   \n",
       "4                      NaN                   NaN              219    29604   \n",
       "\n",
       "   prop_starrating  prop_review_score  ...  comp6_rate_percent_diff  \\\n",
       "0                3                3.5  ...                      NaN   \n",
       "1                4                4.0  ...                      NaN   \n",
       "2                3                4.5  ...                      NaN   \n",
       "3                2                4.0  ...                      NaN   \n",
       "4                4                3.5  ...                      NaN   \n",
       "\n",
       "   comp7_rate  comp7_inv  comp7_rate_percent_diff  comp8_rate  comp8_inv  \\\n",
       "0         NaN        NaN                      NaN         0.0        0.0   \n",
       "1         NaN        NaN                      NaN         0.0        0.0   \n",
       "2         NaN        NaN                      NaN         0.0        0.0   \n",
       "3         NaN        NaN                      NaN        -1.0        0.0   \n",
       "4         NaN        NaN                      NaN         0.0        0.0   \n",
       "\n",
       "   comp8_rate_percent_diff  click_bool  gross_bookings_usd  booking_bool  \n",
       "0                      NaN           0                 NaN             0  \n",
       "1                      NaN           0                 NaN             0  \n",
       "2                      NaN           0                 NaN             0  \n",
       "3                      5.0           0                 NaN             0  \n",
       "4                      NaN           0                 NaN             0  \n",
       "\n",
       "[5 rows x 54 columns]"
      ]
     },
     "execution_count": 17,
     "metadata": {},
     "output_type": "execute_result"
    }
   ],
   "source": [
    "df.head()"
   ]
  },
  {
   "cell_type": "code",
   "execution_count": 14,
   "metadata": {},
   "outputs": [
    {
     "data": {
      "text/plain": [
       "9917530"
      ]
     },
     "execution_count": 14,
     "metadata": {},
     "output_type": "execute_result"
    }
   ],
   "source": [
    "len(df)"
   ]
  },
  {
   "cell_type": "code",
   "execution_count": 9,
   "metadata": {},
   "outputs": [
    {
     "data": {
      "text/plain": [
       "Index(['srch_id', 'date_time', 'site_id', 'visitor_location_country_id',\n",
       "       'visitor_hist_starrating', 'visitor_hist_adr_usd', 'prop_country_id',\n",
       "       'prop_id', 'prop_starrating', 'prop_review_score', 'prop_brand_bool',\n",
       "       'prop_location_score1', 'prop_location_score2',\n",
       "       'prop_log_historical_price', 'position', 'price_usd', 'promotion_flag',\n",
       "       'srch_destination_id', 'srch_length_of_stay', 'srch_booking_window',\n",
       "       'srch_adults_count', 'srch_children_count', 'srch_room_count',\n",
       "       'srch_saturday_night_bool', 'srch_query_affinity_score',\n",
       "       'orig_destination_distance', 'random_bool', 'comp1_rate', 'comp1_inv',\n",
       "       'comp1_rate_percent_diff', 'comp2_rate', 'comp2_inv',\n",
       "       'comp2_rate_percent_diff', 'comp3_rate', 'comp3_inv',\n",
       "       'comp3_rate_percent_diff', 'comp4_rate', 'comp4_inv',\n",
       "       'comp4_rate_percent_diff', 'comp5_rate', 'comp5_inv',\n",
       "       'comp5_rate_percent_diff', 'comp6_rate', 'comp6_inv',\n",
       "       'comp6_rate_percent_diff', 'comp7_rate', 'comp7_inv',\n",
       "       'comp7_rate_percent_diff', 'comp8_rate', 'comp8_inv',\n",
       "       'comp8_rate_percent_diff', 'click_bool', 'gross_bookings_usd',\n",
       "       'booking_bool'],\n",
       "      dtype='object')"
      ]
     },
     "execution_count": 9,
     "metadata": {},
     "output_type": "execute_result"
    }
   ],
   "source": [
    "df.columns"
   ]
  },
  {
   "cell_type": "code",
   "execution_count": 54,
   "metadata": {},
   "outputs": [
    {
     "data": {
      "text/plain": [
       "399344"
      ]
     },
     "execution_count": 54,
     "metadata": {},
     "output_type": "execute_result"
    }
   ],
   "source": []
  },
  {
   "cell_type": "code",
   "execution_count": 53,
   "metadata": {},
   "outputs": [
    {
     "data": {
      "text/plain": [
       "array([27, 26, 21, 34,  4,  7, 18, 35,  3, 10, 20, 19, 13,  2, 15, 31, 23,\n",
       "       36,  8,  6, 28,  1, 32, 12, 24, 37, 33, 29, 22,  9, 25, 30, 14, 16,\n",
       "       17,  5, 11, 38, 39, 40])"
      ]
     },
     "execution_count": 53,
     "metadata": {},
     "output_type": "execute_result"
    }
   ],
   "source": [
    "df['position'].unique()"
   ]
  },
  {
   "cell_type": "code",
   "execution_count": 5,
   "metadata": {},
   "outputs": [
    {
     "data": {
      "text/plain": [
       "array(['2013-04-04 08:32:15', '2012-12-31 08:59:22',\n",
       "       '2013-06-05 12:27:51', ..., '2013-03-12 15:51:20',\n",
       "       '2013-03-30 16:39:40', '2013-05-21 11:06:37'], dtype=object)"
      ]
     },
     "execution_count": 5,
     "metadata": {},
     "output_type": "execute_result"
    }
   ],
   "source": [
    "df['date_time'].unique()"
   ]
  },
  {
   "cell_type": "code",
   "execution_count": 7,
   "metadata": {},
   "outputs": [
    {
     "data": {
      "text/plain": [
       "count    9.917530e+06\n",
       "mean     4.473614e-02\n",
       "std      2.067240e-01\n",
       "min      0.000000e+00\n",
       "25%      0.000000e+00\n",
       "50%      0.000000e+00\n",
       "75%      0.000000e+00\n",
       "max      1.000000e+00\n",
       "Name: click_bool, dtype: float64"
      ]
     },
     "execution_count": 7,
     "metadata": {},
     "output_type": "execute_result"
    }
   ],
   "source": [
    "df['click_bool'].describe()"
   ]
  },
  {
   "cell_type": "code",
   "execution_count": 10,
   "metadata": {},
   "outputs": [
    {
     "data": {
      "text/plain": [
       "count    9.917530e+06\n",
       "mean     2.788930e-02\n",
       "std      1.646557e-01\n",
       "min      0.000000e+00\n",
       "25%      0.000000e+00\n",
       "50%      0.000000e+00\n",
       "75%      0.000000e+00\n",
       "max      1.000000e+00\n",
       "Name: booking_bool, dtype: float64"
      ]
     },
     "execution_count": 10,
     "metadata": {},
     "output_type": "execute_result"
    }
   ],
   "source": [
    "df['booking_bool'].describe()"
   ]
  },
  {
   "cell_type": "code",
   "execution_count": 18,
   "metadata": {},
   "outputs": [
    {
     "data": {
      "text/plain": [
       "count    505297.000000\n",
       "mean          3.374634\n",
       "std           0.692218\n",
       "min           1.000000\n",
       "25%           2.920000\n",
       "50%           3.440000\n",
       "75%           3.940000\n",
       "max           5.000000\n",
       "Name: visitor_hist_starrating, dtype: float64"
      ]
     },
     "execution_count": 18,
     "metadata": {},
     "output_type": "execute_result"
    }
   ],
   "source": [
    "df['visitor_hist_starrating'].describe()"
   ]
  },
  {
   "cell_type": "code",
   "execution_count": 13,
   "metadata": {},
   "outputs": [
    {
     "data": {
      "text/html": [
       "<table class=\"simpletable\">\n",
       "<tr>\n",
       "       <td></td>          <th>coef</th>     <th>std err</th>      <th>t</th>      <th>P>|t|</th>  <th>[0.025</th>    <th>0.975]</th>  \n",
       "</tr>\n",
       "<tr>\n",
       "  <th>Intercept</th>   <td>    0.0440</td> <td> 7.83e-05</td> <td>  561.683</td> <td> 0.000</td> <td>    0.044</td> <td>    0.044</td>\n",
       "</tr>\n",
       "<tr>\n",
       "  <th>random_bool</th> <td>    0.0026</td> <td>    0.000</td> <td>   18.323</td> <td> 0.000</td> <td>    0.002</td> <td>    0.003</td>\n",
       "</tr>\n",
       "</table>"
      ],
      "text/plain": [
       "<class 'statsmodels.iolib.table.SimpleTable'>"
      ]
     },
     "execution_count": 13,
     "metadata": {},
     "output_type": "execute_result"
    }
   ],
   "source": [
    "# calculate the average treatment effect as a whole\n",
    "# random_bool = 0 normal sorting, = 1 random sorting\n",
    "smf.ols('click_bool ~ random_bool', data=df).fit().summary().tables[1]\n",
    "\n",
    "# when the sorting is random, consumers are more likely to click???"
   ]
  },
  {
   "cell_type": "code",
   "execution_count": 50,
   "metadata": {},
   "outputs": [
    {
     "data": {
      "text/html": [
       "<table class=\"simpletable\">\n",
       "<tr>\n",
       "       <td></td>          <th>coef</th>     <th>std err</th>      <th>t</th>      <th>P>|t|</th>  <th>[0.025</th>    <th>0.975]</th>  \n",
       "</tr>\n",
       "<tr>\n",
       "  <th>Intercept</th>   <td>    0.0374</td> <td> 6.21e-05</td> <td>  601.863</td> <td> 0.000</td> <td>    0.037</td> <td>    0.037</td>\n",
       "</tr>\n",
       "<tr>\n",
       "  <th>random_bool</th> <td>   -0.0320</td> <td>    0.000</td> <td> -280.410</td> <td> 0.000</td> <td>   -0.032</td> <td>   -0.032</td>\n",
       "</tr>\n",
       "</table>"
      ],
      "text/plain": [
       "<class 'statsmodels.iolib.table.SimpleTable'>"
      ]
     },
     "execution_count": 50,
     "metadata": {},
     "output_type": "execute_result"
    }
   ],
   "source": [
    "smf.ols('booking_bool ~ random_bool', data=df).fit().summary().tables[1]\n",
    "\n",
    "# when the sorting is random, users are less likley to book the hotel "
   ]
  },
  {
   "cell_type": "code",
   "execution_count": 21,
   "metadata": {},
   "outputs": [],
   "source": [
    "# treatment effect by user's historical ratings\n",
    "df_5 = df[df['visitor_hist_starrating'] == 5]\n",
    "df_4 = df[df['visitor_hist_starrating'] == 4]\n",
    "df_3 = df[df['visitor_hist_starrating'] == 3]\n",
    "df_2 = df[df['visitor_hist_starrating'] == 2]\n",
    "df_1 = df[df['visitor_hist_starrating'] == 1]"
   ]
  },
  {
   "cell_type": "code",
   "execution_count": 26,
   "metadata": {},
   "outputs": [
    {
     "name": "stdout",
     "output_type": "stream",
     "text": [
      "9117\n",
      "47756\n",
      "42316\n",
      "18166\n",
      "119\n"
     ]
    }
   ],
   "source": [
    "print(len(df_5))\n",
    "print(len(df_4))\n",
    "print(len(df_3))\n",
    "print(len(df_2))\n",
    "print(len(df_1))"
   ]
  },
  {
   "cell_type": "code",
   "execution_count": 35,
   "metadata": {},
   "outputs": [
    {
     "data": {
      "text/plain": [
       "Text(0.5, 0, \"Vistor's Historical Ratings\")"
      ]
     },
     "execution_count": 35,
     "metadata": {},
     "output_type": "execute_result"
    },
    {
     "data": {
      "image/png": "[encoded data removed]",
      "text/plain": [
       "<Figure size 432x288 with 1 Axes>"
      ]
     },
     "metadata": {
      "needs_background": "light"
     },
     "output_type": "display_data"
    }
   ],
   "source": [
    "# plot histograph for historical ratings \n",
    "y = [119, 18166, 42316, 47756, 9117]\n",
    "x = [\"1\", \"2\", \"3\", \"4\", \"5\"]\n",
    "plt.bar(x, y, width = 0.6)\n",
    "plt.ylabel(\"Count\")\n",
    "plt.xlabel(\"Vistor's Historical Ratings\")"
   ]
  },
  {
   "cell_type": "code",
   "execution_count": 40,
   "metadata": {},
   "outputs": [
    {
     "name": "stdout",
     "output_type": "stream",
     "text": [
      "average treatment effect for 5 starting rating users:\n",
      "===============================================================================\n",
      "                  coef    std err          t      P>|t|      [0.025      0.975]\n",
      "-------------------------------------------------------------------------------\n",
      "Intercept       0.0452      0.002     19.022      0.000       0.040       0.050\n",
      "random_bool     0.0072      0.006      1.144      0.253      -0.005       0.020\n",
      "===============================================================================\n",
      "average treatment effect for 4 starting rating users:\n",
      "===============================================================================\n",
      "                  coef    std err          t      P>|t|      [0.025      0.975]\n",
      "-------------------------------------------------------------------------------\n",
      "Intercept       0.0439      0.001     42.678      0.000       0.042       0.046\n",
      "random_bool     0.0009      0.003      0.345      0.730      -0.004       0.006\n",
      "===============================================================================\n",
      "average treatment effect for 3 starting rating users:\n",
      "===============================================================================\n",
      "                  coef    std err          t      P>|t|      [0.025      0.975]\n",
      "-------------------------------------------------------------------------------\n",
      "Intercept       0.0449      0.001     41.302      0.000       0.043       0.047\n",
      "random_bool    -0.0013      0.003     -0.444      0.657      -0.007       0.004\n",
      "===============================================================================\n",
      "average treatment effect for 2 starting rating users:\n",
      "===============================================================================\n",
      "                  coef    std err          t      P>|t|      [0.025      0.975]\n",
      "-------------------------------------------------------------------------------\n",
      "Intercept       0.0443      0.002     26.404      0.000       0.041       0.048\n",
      "random_bool    -0.0025      0.004     -0.626      0.531      -0.010       0.005\n",
      "===============================================================================\n",
      "average treatment effect for 1 starting rating users:\n",
      "===============================================================================\n",
      "                  coef    std err          t      P>|t|      [0.025      0.975]\n",
      "-------------------------------------------------------------------------------\n",
      "Intercept       0.0549      0.023      2.377      0.019       0.009       0.101\n",
      "random_bool    -0.0192      0.048     -0.404      0.687      -0.114       0.075\n",
      "===============================================================================\n"
     ]
    }
   ],
   "source": [
    "print(\"average treatment effect for 5 starting rating users:\")\n",
    "print(smf.ols('click_bool ~ random_bool', data=df_5).fit().summary().tables[1])\n",
    "print(\"average treatment effect for 4 starting rating users:\")\n",
    "print(smf.ols('click_bool ~ random_bool', data=df_4).fit().summary().tables[1])\n",
    "print(\"average treatment effect for 3 starting rating users:\")\n",
    "print(smf.ols('click_bool ~ random_bool', data=df_3).fit().summary().tables[1])\n",
    "print(\"average treatment effect for 2 starting rating users:\")\n",
    "print(smf.ols('click_bool ~ random_bool', data=df_2).fit().summary().tables[1])\n",
    "print(\"average treatment effect for 1 starting rating users:\")\n",
    "print(smf.ols('click_bool ~ random_bool', data=df_1).fit().summary().tables[1])\n",
    "\n",
    "# 2 observations:\n",
    "# first, when calcuate the ATE by groups, results become no longer statistically significant\n",
    "# second, the treatment has the largest effect for high star rating users; for low star rating users, the treatment effect is even negative"
   ]
  },
  {
   "cell_type": "code",
   "execution_count": 44,
   "metadata": {},
   "outputs": [
    {
     "data": {
      "image/png": "[encoded data removed]",
      "text/plain": [
       "<Figure size 432x288 with 1 Axes>"
      ]
     },
     "metadata": {
      "needs_background": "light"
     },
     "output_type": "display_data"
    }
   ],
   "source": [
    "plt.hist(df['visitor_hist_adr_usd'], bins=50)\n",
    "plt.show()"
   ]
  },
  {
   "cell_type": "code",
   "execution_count": 45,
   "metadata": {},
   "outputs": [
    {
     "data": {
      "text/plain": [
       "count    507612.000000\n",
       "mean        176.588512\n",
       "std         108.434842\n",
       "min           0.000000\n",
       "25%         110.330000\n",
       "50%         151.830000\n",
       "75%         214.350000\n",
       "max        2768.930000\n",
       "Name: visitor_hist_adr_usd, dtype: float64"
      ]
     },
     "execution_count": 45,
     "metadata": {},
     "output_type": "execute_result"
    }
   ],
   "source": [
    "df['visitor_hist_adr_usd'].describe()"
   ]
  },
  {
   "cell_type": "code",
   "execution_count": 46,
   "metadata": {},
   "outputs": [],
   "source": [
    "# treatment effect by user's historical spendings\n",
    "df_low = df[df['visitor_hist_adr_usd'] <= 100]\n",
    "df_lowm = df[(df['visitor_hist_adr_usd'] > 100) & (df['visitor_hist_adr_usd'] <= 200)]\n",
    "df_medium = df[(df['visitor_hist_adr_usd'] > 200) & (df['visitor_hist_adr_usd'] <= 300)]\n",
    "df_mhigh = df[(df['visitor_hist_adr_usd'] > 300) & (df['visitor_hist_adr_usd'] <= 400)]\n",
    "df_high = df[df['visitor_hist_adr_usd'] >= 400]"
   ]
  },
  {
   "cell_type": "code",
   "execution_count": 48,
   "metadata": {},
   "outputs": [
    {
     "name": "stdout",
     "output_type": "stream",
     "text": [
      "average treatment effect for high spending users:\n",
      "===============================================================================\n",
      "                  coef    std err          t      P>|t|      [0.025      0.975]\n",
      "-------------------------------------------------------------------------------\n",
      "Intercept       0.0455      0.002     26.624      0.000       0.042       0.049\n",
      "random_bool     0.0129      0.005      2.776      0.006       0.004       0.022\n",
      "===============================================================================\n",
      "average treatment effect for medium-high spending users:\n",
      "===============================================================================\n",
      "                  coef    std err          t      P>|t|      [0.025      0.975]\n",
      "-------------------------------------------------------------------------------\n",
      "Intercept       0.0442      0.001     34.201      0.000       0.042       0.047\n",
      "random_bool     0.0063      0.003      1.856      0.063      -0.000       0.013\n",
      "===============================================================================\n",
      "average treatment effect for medium spending users:\n",
      "===============================================================================\n",
      "                  coef    std err          t      P>|t|      [0.025      0.975]\n",
      "-------------------------------------------------------------------------------\n",
      "Intercept       0.0435      0.001     61.266      0.000       0.042       0.045\n",
      "random_bool     0.0043      0.002      2.670      0.008       0.001       0.007\n",
      "===============================================================================\n",
      "average treatment effect for medium-low spending users:\n",
      "===============================================================================\n",
      "                  coef    std err          t      P>|t|      [0.025      0.975]\n",
      "-------------------------------------------------------------------------------\n",
      "Intercept       0.0438      0.000    100.283      0.000       0.043       0.045\n",
      "random_bool     0.0033      0.001      2.903      0.004       0.001       0.006\n",
      "===============================================================================\n",
      "average treatment effect for low spending users:\n",
      "===============================================================================\n",
      "                  coef    std err          t      P>|t|      [0.025      0.975]\n",
      "-------------------------------------------------------------------------------\n",
      "Intercept       0.0435      0.001     60.621      0.000       0.042       0.045\n",
      "random_bool    -0.0007      0.002     -0.364      0.716      -0.004       0.003\n",
      "===============================================================================\n"
     ]
    }
   ],
   "source": [
    "print(\"average treatment effect for high spending users:\")\n",
    "print(smf.ols('click_bool ~ random_bool', data=df_high).fit().summary().tables[1])\n",
    "print(\"average treatment effect for medium-high spending users:\")\n",
    "print(smf.ols('click_bool ~ random_bool', data=df_mhigh).fit().summary().tables[1])\n",
    "print(\"average treatment effect for medium spending users:\")\n",
    "print(smf.ols('click_bool ~ random_bool', data=df_medium).fit().summary().tables[1])\n",
    "print(\"average treatment effect for medium-low spending users:\")\n",
    "print(smf.ols('click_bool ~ random_bool', data=df_lowm).fit().summary().tables[1])\n",
    "print(\"average treatment effect for low spending users:\")\n",
    "print(smf.ols('click_bool ~ random_bool', data=df_low).fit().summary().tables[1])"
   ]
  },
  {
   "cell_type": "code",
   "execution_count": 49,
   "metadata": {},
   "outputs": [
    {
     "data": {
      "text/plain": [
       "array([219, 100, 158,  31, 216,  15,  98,  55,  30, 137, 215, 117,  56,\n",
       "       129,  99,  53, 181, 221,  35,  59, 202, 132, 127, 109, 195, 131,\n",
       "        70, 220,  13,  92,  91, 113, 205,  14,  41, 154, 164,   9, 138,\n",
       "       194, 103,  81,  50,   4, 102, 106,  60,  73,  26,  16, 225,  39,\n",
       "        23, 230, 178,  32, 212, 125, 157, 145, 203, 185,  88, 151,  71,\n",
       "        10,  80,  68,  33,  77, 134, 152,  61, 153, 159,  18, 182,  63,\n",
       "        48, 119, 206, 156, 173, 223,  97, 123,   2, 211, 184,  86, 213,\n",
       "        40,  83, 187,  37, 189, 197,  21,  20,  17,  45,  42,  74, 229,\n",
       "        47, 224, 112, 200, 149,  27, 122, 162,  93,  69,  34, 190,  96,\n",
       "       161,  11,  76,  90, 186,  38, 155, 141, 196, 163, 226, 124, 172,\n",
       "        51, 214, 177, 201,  22, 167, 169, 171,  65, 179, 143, 146,  72,\n",
       "       136, 128,  82, 120, 111,  19, 160,  25, 217, 192,  57, 208, 222,\n",
       "        44, 165, 180,  89, 204, 140,   1,  87,  62, 207,  46,   7,  79,\n",
       "       108, 135, 126])"
      ]
     },
     "execution_count": 49,
     "metadata": {},
     "output_type": "execute_result"
    }
   ],
   "source": [
    "df['prop_country_id'].unique()"
   ]
  },
  {
   "cell_type": "code",
   "execution_count": null,
   "metadata": {},
   "outputs": [],
   "source": []
  }
 ],
 "metadata": {
  "kernelspec": {
   "display_name": "Python 3",
   "language": "python",
   "name": "python3"
  },
  "language_info": {
   "codemirror_mode": {
    "name": "ipython",
    "version": 3
   },
   "file_extension": ".py",
   "mimetype": "text/x-python",
   "name": "python",
   "nbconvert_exporter": "python",
   "pygments_lexer": "ipython3",
   "version": "3.7.6"
  }
 },
 "nbformat": 4,
 "nbformat_minor": 4
}
