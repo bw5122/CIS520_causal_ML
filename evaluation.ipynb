{
 "cells": [
  {
   "cell_type": "code",
   "execution_count": 46,
   "metadata": {},
   "outputs": [],
   "source": [
    "import pandas as pd\n",
    "import numpy as np\n",
    "from matplotlib import pyplot as plt\n",
    "import seaborn as sns\n",
    "from toolz import curry\n",
    "\n",
    "\n",
    "import statsmodels.formula.api as smf\n",
    "import statsmodels.api as sm\n",
    "\n",
    "np.random.seed(123)\n"
   ]
  },
  {
   "cell_type": "markdown",
   "metadata": {},
   "source": [
    "## Prepare the data"
   ]
  },
  {
   "cell_type": "code",
   "execution_count": 26,
   "metadata": {},
   "outputs": [
    {
     "name": "stdout",
     "output_type": "stream",
     "text": [
      "(9917530, 21)\n"
     ]
    }
   ],
   "source": [
    "data = pd.read_csv(\"data/train_new.csv\")\n",
    "data = data.sample(frac = 0.1)\n",
    "\n",
    "print(data.shape)\n",
    "data.head()"
   ]
  },
  {
   "cell_type": "code",
   "execution_count": 27,
   "metadata": {},
   "outputs": [
    {
     "data": {
      "text/plain": [
       "Index(['Unnamed: 0', 'click_bool', 'booking_bool', 'random_bool',\n",
       "       'visitor_hist_starrating', 'visitor_hist_adr_usd', 'prop_starrating',\n",
       "       'prop_review_score', 'prop_brand_bool', 'prop_location_score1',\n",
       "       'prop_log_historical_price', 'position', 'price_usd', 'promotion_flag',\n",
       "       'srch_length_of_stay', 'srch_booking_window', 'srch_adults_count',\n",
       "       'srch_children_count', 'srch_room_count', 'srch_saturday_night_bool',\n",
       "       'orig_destination_distance'],\n",
       "      dtype='object')"
      ]
     },
     "execution_count": 27,
     "metadata": {},
     "output_type": "execute_result"
    }
   ],
   "source": [
    "data.columns"
   ]
  },
  {
   "cell_type": "code",
   "execution_count": 28,
   "metadata": {},
   "outputs": [],
   "source": [
    "data[\"not_random_bool\"] = 1 - data['random_bool'] #study the causal effect of turing ON the ranking algo\n",
    "\n",
    "train_data = data.sample(frac = 0.6)\n",
    "test_data = data.drop(train_data.index)\n",
    "print(train_data.shape, test_data.shape)"
   ]
  },
  {
   "cell_type": "markdown",
   "metadata": {},
   "source": [
    "## Train the Models"
   ]
  },
  {
   "cell_type": "markdown",
   "metadata": {},
   "source": [
    "### (1) Baseline: fully interacted linear regression"
   ]
  },
  {
   "cell_type": "code",
   "execution_count": 35,
   "metadata": {},
   "outputs": [],
   "source": [
    "### Fully interacted model, remove booking_bool, position\n",
    "m1_lr = smf.ols(\"click_bool ~ not_random_bool + not_random_bool*visitor_hist_starrating + not_random_bool*visitor_hist_adr_usd + not_random_bool*prop_starrating + not_random_bool*prop_review_score + not_random_bool*prop_brand_bool + not_random_bool*prop_location_score1 + not_random_bool*prop_log_historical_price + not_random_bool*price_usd + not_random_bool*promotion_flag + not_random_bool*srch_length_of_stay + not_random_bool*srch_booking_window + not_random_bool*srch_adults_count + not_random_bool*srch_children_count + not_random_bool*srch_room_count + not_random_bool*srch_saturday_night_bool + not_random_bool*orig_destination_distance\", data = train_data).fit()"
   ]
  },
  {
   "cell_type": "code",
   "execution_count": null,
   "metadata": {},
   "outputs": [],
   "source": []
  },
  {
   "cell_type": "markdown",
   "metadata": {},
   "source": [
    "### (2) Meta Learners, DRLearner, DML, NonParamDML"
   ]
  },
  {
   "cell_type": "code",
   "execution_count": null,
   "metadata": {},
   "outputs": [],
   "source": []
  },
  {
   "cell_type": "markdown",
   "metadata": {},
   "source": [
    "### (3) DMLOrthoForest, DROrthoForest, ForestDRLeaner, CausalForestDML"
   ]
  },
  {
   "cell_type": "code",
   "execution_count": null,
   "metadata": {},
   "outputs": [],
   "source": []
  },
  {
   "cell_type": "markdown",
   "metadata": {},
   "source": [
    "## Evaluation"
   ]
  },
  {
   "cell_type": "code",
   "execution_count": null,
   "metadata": {},
   "outputs": [],
   "source": [
    "#predict individual level treatment effect\n",
    "def predict_cate(model, df):\n",
    "    return (model.predict(df.assign(not_random_bool=1))\n",
    "            - model.predict(df.assign(not_random_bool=0)))"
   ]
  },
  {
   "cell_type": "code",
   "execution_count": 38,
   "metadata": {},
   "outputs": [
    {
     "data": {
      "text/plain": [
       "count    3.967012e+06\n",
       "mean    -3.477306e-03\n",
       "std      3.658743e-03\n",
       "min     -5.385358e-01\n",
       "25%     -5.748428e-03\n",
       "50%     -3.579558e-03\n",
       "75%     -1.213987e-03\n",
       "max      1.861026e-02\n",
       "Name: cate_pred, dtype: float64"
      ]
     },
     "execution_count": 38,
     "metadata": {},
     "output_type": "execute_result"
    }
   ],
   "source": [
    "test_data_pred[\"cate_pred\"].describe()"
   ]
  },
  {
   "cell_type": "markdown",
   "metadata": {},
   "source": [
    "### (1) Treatment Effect by Model Band"
   ]
  },
  {
   "cell_type": "code",
   "execution_count": 61,
   "metadata": {},
   "outputs": [],
   "source": [
    "@curry\n",
    "def cate(data, y, t):\n",
    "        # line coeficient for the one variable linear regression \n",
    "        return (np.sum((data[t] - data[t].mean())*(data[y] - data[y].mean())) /\n",
    "                np.sum((data[t] - data[t].mean())**2))\n",
    "\n",
    "\n",
    "def cate_by_band(df, pred, y, t, bands=10):\n",
    "    return (df\n",
    "            .assign(**{f\"{pred}_band\":pd.qcut(df[pred], q=bands)}) # makes quantile partitions\n",
    "            .groupby(f\"{pred}_band\")\n",
    "            .apply(cate(y=y, t=t))) # estimate the elasticity on each partition\n",
    "\n",
    "\n",
    "def draw_cate_by_band_plot(test_data, model):\n",
    "        test_data_pred = test_data.assign(**{\n",
    "                \"cate_pred\": predict_cate(model, test_data), \n",
    "        })\n",
    "\n",
    "        fig, ax = plt.subplots(1, 1, sharey=True, figsize=(10, 4))\n",
    "        ax.set_ylabel(\"Group ATE (ground-truth)\")\n",
    "        cate_by_band(test_data_pred, \"cate_pred\", \"click_bool\", \"not_random_bool\").plot.bar(ax=ax)\n",
    "\n"
   ]
  },
  {
   "cell_type": "code",
   "execution_count": 63,
   "metadata": {},
   "outputs": [
    {
     "data": {
      "image/png": "[encoded data removed]",
      "text/plain": [
       "<Figure size 720x288 with 1 Axes>"
      ]
     },
     "metadata": {
      "needs_background": "light"
     },
     "output_type": "display_data"
    }
   ],
   "source": [
    "## Sample usage: plot the graph for a single model, evaluated on the test data\n",
    "draw_cate_by_band_plot(test_data, m1_lr)"
   ]
  },
  {
   "cell_type": "code",
   "execution_count": 64,
   "metadata": {},
   "outputs": [],
   "source": [
    "# TODO: evaluate multiple models in a single big plots\n",
    "\n",
    "\n"
   ]
  },
  {
   "cell_type": "markdown",
   "metadata": {},
   "source": [
    "### (2) Cumulative TE Curve"
   ]
  },
  {
   "cell_type": "code",
   "execution_count": 52,
   "metadata": {},
   "outputs": [],
   "source": [
    "def cumulative_te_curve(dataset, prediction, y, t, min_periods=30, steps=100):\n",
    "    size = dataset.shape[0]\n",
    "    \n",
    "    # orders the dataset by the `prediction` column\n",
    "    ordered_df = dataset.sort_values(prediction, ascending=False).reset_index(drop=True)\n",
    "    \n",
    "    # create a sequence of row numbers that will define our Ks\n",
    "    # The last item is the sequence is all the rows (the size of the dataset)\n",
    "    n_rows = list(range(min_periods, size, size // steps)) + [size]\n",
    "    \n",
    "    # cumulative computes the elasticity. First for the top min_periods units.\n",
    "    # then for the top (min_periods + step*1), then (min_periods + step*2) and so on\n",
    "    return np.array([cate(ordered_df.head(rows), y, t) for rows in n_rows])\n",
    "\n",
    "\n"
   ]
  },
  {
   "cell_type": "code",
   "execution_count": 56,
   "metadata": {},
   "outputs": [
    {
     "data": {
      "image/png": "[encoded data removed]",
      "text/plain": [
       "<Figure size 720x432 with 1 Axes>"
      ]
     },
     "metadata": {
      "needs_background": "light"
     },
     "output_type": "display_data"
    }
   ],
   "source": [
    "plt.figure(figsize=(10,6))\n",
    "\n",
    "for m in [\"cate_pred\"]:\n",
    "    cumu_elast = cumulative_te_curve(test_data_pred, m, \"click_bool\", \"not_random_bool\", min_periods=100, steps=100)\n",
    "    x = np.array(range(len(cumu_elast)))\n",
    "    plt.plot(x/x.max(), cumu_elast, label=m)\n",
    "\n",
    "plt.hlines(cate(test_data_pred, \"click_bool\", \"not_random_bool\"), 0, 1, linestyles=\"--\", color=\"black\", label=\"Avg. Treatment Effect of the ranking algorithm.\")\n",
    "plt.xlabel(\"% of Top Pred CATE. Impressions\")\n",
    "plt.ylabel(\"Cumulative TE (ground-truth)\")\n",
    "plt.title(\"Cumulative TE Curve\")\n",
    "plt.legend();"
   ]
  }
 ],
 "metadata": {
  "kernelspec": {
   "display_name": "Python 3.8.8 ('base')",
   "language": "python",
   "name": "python3"
  },
  "language_info": {
   "codemirror_mode": {
    "name": "ipython",
    "version": 3
   },
   "file_extension": ".py",
   "mimetype": "text/x-python",
   "name": "python",
   "nbconvert_exporter": "python",
   "pygments_lexer": "ipython3",
   "version": "3.8.8"
  },
  "orig_nbformat": 4,
  "vscode": {
   "interpreter": {
    "hash": "c71322139286613c8b50513d4467bb7cf0c20373b3e74944a69ad7085bf4f9a7"
   }
  }
 },
 "nbformat": 4,
 "nbformat_minor": 2
}
